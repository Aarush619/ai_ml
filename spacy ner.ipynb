{
 "cells": [
  {
   "cell_type": "code",
   "execution_count": 14,
   "metadata": {},
   "outputs": [
    {
     "name": "stderr",
     "output_type": "stream",
     "text": [
      "'pip3' is not recognized as an internal or external command,\n",
      "operable program or batch file.\n",
      "'python3' is not recognized as an internal or external command,\n",
      "operable program or batch file.\n"
     ]
    }
   ],
   "source": [
    "!pip install -U spacy\n",
    "import spacy\n",
    "!python -m spacy download en_core_web_sm"
   ]
  },
  {
   "cell_type": "code",
   "execution_count": 507,
   "metadata": {},
   "outputs": [
    {
     "name": "stdout",
     "output_type": "stream",
     "text": [
      "Requirement already satisfied: num2words in c:\\users\\aarush\\anaconda3\\lib\\site-packages (0.5.10)\n",
      "Requirement already satisfied: docopt>=0.6.2 in c:\\users\\aarush\\anaconda3\\lib\\site-packages (from num2words) (0.6.2)\n"
     ]
    },
    {
     "name": "stderr",
     "output_type": "stream",
     "text": [
      "You are using pip version 10.0.1, however version 20.0.2 is available.\n",
      "You should consider upgrading via the 'python -m pip install --upgrade pip' command.\n"
     ]
    },
    {
     "name": "stdout",
     "output_type": "stream",
     "text": [
      "Requirement already satisfied: inflect in c:\\users\\aarush\\anaconda3\\lib\\site-packages (4.0.0)\n",
      "Requirement already satisfied: importlib-metadata; python_version < \"3.8\" in c:\\users\\aarush\\anaconda3\\lib\\site-packages (from inflect) (1.4.0)\n",
      "Requirement already satisfied: zipp>=0.5 in c:\\users\\aarush\\anaconda3\\lib\\site-packages (from importlib-metadata; python_version < \"3.8\"->inflect) (2.1.0)\n"
     ]
    },
    {
     "name": "stderr",
     "output_type": "stream",
     "text": [
      "You are using pip version 10.0.1, however version 20.0.2 is available.\n",
      "You should consider upgrading via the 'python -m pip install --upgrade pip' command.\n"
     ]
    }
   ],
   "source": [
    "!pip install num2words\n",
    "from num2words import num2words\n",
    "!pip install inflect\n",
    "import inflect"
   ]
  },
  {
   "cell_type": "code",
   "execution_count": 629,
   "metadata": {
    "collapsed": true
   },
   "outputs": [],
   "source": [
    "import pandas as pd\n",
    "import re"
   ]
  },
  {
   "cell_type": "code",
   "execution_count": 6,
   "metadata": {},
   "outputs": [
    {
     "data": {
      "text/html": [
       "<div>\n",
       "<style>\n",
       "    .dataframe thead tr:only-child th {\n",
       "        text-align: right;\n",
       "    }\n",
       "\n",
       "    .dataframe thead th {\n",
       "        text-align: left;\n",
       "    }\n",
       "\n",
       "    .dataframe tbody tr th {\n",
       "        vertical-align: top;\n",
       "    }\n",
       "</style>\n",
       "<table border=\"1\" class=\"dataframe\">\n",
       "  <thead>\n",
       "    <tr style=\"text-align: right;\">\n",
       "      <th></th>\n",
       "      <th>File Name</th>\n",
       "      <th>Aggrement Value</th>\n",
       "      <th>Aggrement Start Date</th>\n",
       "      <th>Aggrement End Date</th>\n",
       "      <th>Renewal Notice (Days)</th>\n",
       "      <th>Party One</th>\n",
       "      <th>Party Two</th>\n",
       "    </tr>\n",
       "  </thead>\n",
       "  <tbody>\n",
       "    <tr>\n",
       "      <th>0</th>\n",
       "      <td>404_Sai Sadan_Rental Agreement</td>\n",
       "      <td>15500.0</td>\n",
       "      <td>26.06.2016</td>\n",
       "      <td>31.04.2017</td>\n",
       "      <td>30.0</td>\n",
       "      <td>Mr. RK Senthil Kumar</td>\n",
       "      <td>Mr. Sandipan Nandy Mazumdar</td>\n",
       "    </tr>\n",
       "    <tr>\n",
       "      <th>1</th>\n",
       "      <td>Bangalore Agreement_New</td>\n",
       "      <td>NaN</td>\n",
       "      <td>01.05.2015</td>\n",
       "      <td>28.02.2018</td>\n",
       "      <td>15.0</td>\n",
       "      <td>MR AMAR ARUN WAGH</td>\n",
       "      <td>MR SANDEEP DUTTA</td>\n",
       "    </tr>\n",
       "    <tr>\n",
       "      <th>2</th>\n",
       "      <td>Draft lease Eternia June 1 2017  to  - April 3...</td>\n",
       "      <td>42500.0</td>\n",
       "      <td>01.06.2017</td>\n",
       "      <td>30.04.2018</td>\n",
       "      <td>30.0</td>\n",
       "      <td>Mrs. Meera Garge</td>\n",
       "      <td>Mr. Sameer Khanna</td>\n",
       "    </tr>\n",
       "    <tr>\n",
       "      <th>3</th>\n",
       "      <td>Rent Agreement Bengaluru</td>\n",
       "      <td>15000.0</td>\n",
       "      <td>01.05.2016</td>\n",
       "      <td>31.04.2017</td>\n",
       "      <td>60.0</td>\n",
       "      <td>Mrs. Usha Tiwari</td>\n",
       "      <td>Mr. Vijesh Bhaktha</td>\n",
       "    </tr>\n",
       "    <tr>\n",
       "      <th>4</th>\n",
       "      <td>Rental Agreement_Sanjeevini Pebbles</td>\n",
       "      <td>19000.0</td>\n",
       "      <td>01.08.2017</td>\n",
       "      <td>31.05.2018</td>\n",
       "      <td>30.0</td>\n",
       "      <td>Mr.Dhannatej Vaddadi</td>\n",
       "      <td>Mr. Sandeep Dutta</td>\n",
       "    </tr>\n",
       "  </tbody>\n",
       "</table>\n",
       "</div>"
      ],
      "text/plain": [
       "                                           File Name  Aggrement Value  \\\n",
       "0                     404_Sai Sadan_Rental Agreement          15500.0   \n",
       "1                            Bangalore Agreement_New              NaN   \n",
       "2  Draft lease Eternia June 1 2017  to  - April 3...          42500.0   \n",
       "3                           Rent Agreement Bengaluru          15000.0   \n",
       "4                Rental Agreement_Sanjeevini Pebbles          19000.0   \n",
       "\n",
       "  Aggrement Start Date Aggrement End Date  Renewal Notice (Days)  \\\n",
       "0          26.06.2016          31.04.2017                   30.0   \n",
       "1           01.05.2015         28.02.2018                   15.0   \n",
       "2           01.06.2017         30.04.2018                   30.0   \n",
       "3           01.05.2016         31.04.2017                   60.0   \n",
       "4           01.08.2017         31.05.2018                   30.0   \n",
       "\n",
       "               Party One                     Party Two  \n",
       "0   Mr. RK Senthil Kumar  Mr. Sandipan Nandy Mazumdar   \n",
       "1      MR AMAR ARUN WAGH              MR SANDEEP DUTTA  \n",
       "2      Mrs. Meera Garge             Mr. Sameer Khanna   \n",
       "3       Mrs. Usha Tiwari           Mr. Vijesh Bhaktha   \n",
       "4  Mr.Dhannatej Vaddadi             Mr. Sandeep Dutta   "
      ]
     },
     "execution_count": 6,
     "metadata": {},
     "output_type": "execute_result"
    }
   ],
   "source": [
    "train_data = pd.read_csv(\"C:/Users/aarush/Downloads/TrainingTestSet.csv\")\n",
    "train_data.head()"
   ]
  },
  {
   "cell_type": "code",
   "execution_count": 7,
   "metadata": {},
   "outputs": [
    {
     "data": {
      "text/html": [
       "<div>\n",
       "<style>\n",
       "    .dataframe thead tr:only-child th {\n",
       "        text-align: right;\n",
       "    }\n",
       "\n",
       "    .dataframe thead th {\n",
       "        text-align: left;\n",
       "    }\n",
       "\n",
       "    .dataframe tbody tr th {\n",
       "        vertical-align: top;\n",
       "    }\n",
       "</style>\n",
       "<table border=\"1\" class=\"dataframe\">\n",
       "  <thead>\n",
       "    <tr style=\"text-align: right;\">\n",
       "      <th></th>\n",
       "      <th>File Name</th>\n",
       "      <th>Aggrement Value</th>\n",
       "      <th>Aggrement Start Date</th>\n",
       "      <th>Aggrement End Date</th>\n",
       "      <th>Renewal Notice (Days)</th>\n",
       "      <th>Party One</th>\n",
       "      <th>Party Two</th>\n",
       "    </tr>\n",
       "  </thead>\n",
       "  <tbody>\n",
       "    <tr>\n",
       "      <th>0</th>\n",
       "      <td>24158401-Rental-Agreement</td>\n",
       "      <td>12000</td>\n",
       "      <td>01.04.2008</td>\n",
       "      <td>31.03.2009</td>\n",
       "      <td>60.0</td>\n",
       "      <td>Hanumaiah</td>\n",
       "      <td>Vishal Bhardwaj</td>\n",
       "    </tr>\n",
       "    <tr>\n",
       "      <th>1</th>\n",
       "      <td>63793679-Rental-Agreement</td>\n",
       "      <td>9000</td>\n",
       "      <td>01.09.2011</td>\n",
       "      <td>31.08.2012</td>\n",
       "      <td>NaN</td>\n",
       "      <td>S Parthasarathy</td>\n",
       "      <td>Hari Kiran Tholeti</td>\n",
       "    </tr>\n",
       "    <tr>\n",
       "      <th>2</th>\n",
       "      <td>95980236-Rental-Agreement</td>\n",
       "      <td>9000</td>\n",
       "      <td>01.04.2010</td>\n",
       "      <td>31.03.2011</td>\n",
       "      <td>30.0</td>\n",
       "      <td>S.Sakunthala</td>\n",
       "      <td>V.V.Ravi Kian</td>\n",
       "    </tr>\n",
       "    <tr>\n",
       "      <th>3</th>\n",
       "      <td>156155545-Rental-Agreement-Kns-Home</td>\n",
       "      <td>12000</td>\n",
       "      <td>15.12.2012</td>\n",
       "      <td>14.11.2013</td>\n",
       "      <td>30.0</td>\n",
       "      <td>V.K.NATARAJ</td>\n",
       "      <td>VYSHNAVI DAIRY SPECIALITIES Private Ltd</td>\n",
       "    </tr>\n",
       "    <tr>\n",
       "      <th>4</th>\n",
       "      <td>195231682-This-RENTAL-AGREEMENT-is-Made-and-Ex...</td>\n",
       "      <td>13000</td>\n",
       "      <td>06.04.2013</td>\n",
       "      <td>05.03.2014</td>\n",
       "      <td>30.0</td>\n",
       "      <td>C.BHAGYAMMA</td>\n",
       "      <td>JP INTERIO</td>\n",
       "    </tr>\n",
       "  </tbody>\n",
       "</table>\n",
       "</div>"
      ],
      "text/plain": [
       "                                           File Name  Aggrement Value  \\\n",
       "0                          24158401-Rental-Agreement            12000   \n",
       "1                          63793679-Rental-Agreement             9000   \n",
       "2                          95980236-Rental-Agreement             9000   \n",
       "3                156155545-Rental-Agreement-Kns-Home            12000   \n",
       "4  195231682-This-RENTAL-AGREEMENT-is-Made-and-Ex...            13000   \n",
       "\n",
       "  Aggrement Start Date Aggrement End Date  Renewal Notice (Days)  \\\n",
       "0           01.04.2008         31.03.2009                   60.0   \n",
       "1           01.09.2011         31.08.2012                    NaN   \n",
       "2           01.04.2010         31.03.2011                   30.0   \n",
       "3           15.12.2012         14.11.2013                   30.0   \n",
       "4           06.04.2013         05.03.2014                   30.0   \n",
       "\n",
       "         Party One                                 Party Two  \n",
       "0       Hanumaiah                           Vishal Bhardwaj   \n",
       "1  S Parthasarathy                        Hari Kiran Tholeti  \n",
       "2     S.Sakunthala                             V.V.Ravi Kian  \n",
       "3     V.K.NATARAJ    VYSHNAVI DAIRY SPECIALITIES Private Ltd  \n",
       "4      C.BHAGYAMMA                                JP INTERIO  "
      ]
     },
     "execution_count": 7,
     "metadata": {},
     "output_type": "execute_result"
    }
   ],
   "source": [
    "validation_data = pd.read_csv(\"C:/Users/aarush/Downloads/ValidationSet.csv\")\n",
    "validation_data.head()"
   ]
  },
  {
   "cell_type": "code",
   "execution_count": 22,
   "metadata": {},
   "outputs": [
    {
     "name": "stdout",
     "output_type": "stream",
     "text": [
      "Requirement already satisfied: dateparser in c:\\users\\aarush\\anaconda3\\lib\\site-packages (0.7.2)\n",
      "Requirement already satisfied: pytz in c:\\users\\aarush\\anaconda3\\lib\\site-packages (from dateparser) (2017.2)\n",
      "Requirement already satisfied: python-dateutil in c:\\users\\aarush\\anaconda3\\lib\\site-packages (from dateparser) (2.2)\n",
      "Requirement already satisfied: regex in c:\\users\\aarush\\anaconda3\\lib\\site-packages (from dateparser) (2020.1.8)\n",
      "Requirement already satisfied: tzlocal in c:\\users\\aarush\\anaconda3\\lib\\site-packages (from dateparser) (2.0.0)\n",
      "Requirement already satisfied: six in c:\\users\\aarush\\anaconda3\\lib\\site-packages (from python-dateutil->dateparser) (1.12.0)\n"
     ]
    },
    {
     "name": "stderr",
     "output_type": "stream",
     "text": [
      "You are using pip version 10.0.1, however version 20.0.2 is available.\n",
      "You should consider upgrading via the 'python -m pip install --upgrade pip' command.\n"
     ]
    },
    {
     "name": "stdout",
     "output_type": "stream",
     "text": [
      "(2019, 10, 22)\n",
      "tomorrow DATE\n",
      "10 days DATE\n",
      "22nd of october 2019 DATE\n",
      "tomorrow DATE\n",
      "10th jan 2020 DATE\n",
      "['tomorrow', '10 days', '22nd of october 2019', 'tomorrow', '10th jan 2020']\n",
      "[(2020, 1, 27), (2020, 1, 16), (2019, 10, 22), (2020, 1, 27), (2020, 1, 10)]\n",
      "['22nd of october 2019']\n",
      "[('22nd of october 2019', 102, 122, 'date')]\n",
      "[(102, 122, 'date')]\n",
      "[(102, 122, 'date')]\n"
     ]
    }
   ],
   "source": [
    "!pip install dateparser\n",
    "import spacy\n",
    "import dateparser\n",
    "import re\n",
    "def date_fn(date , text):\n",
    "    import en_core_web_sm\n",
    "    nlp = en_core_web_sm.load()\n",
    "    #nlp = spacy.load('en_core_web_sm')\n",
    "    date_tup = (dateparser.parse(date).year, dateparser.parse(date).month , dateparser.parse(date).day)\n",
    "    print(date_tup)\n",
    "    temp_text = nlp(text)\n",
    "    dates_in_text = []\n",
    "    parsed_dates_in_text = []\n",
    "    ol=[]\n",
    "    for i in temp_text.ents:\n",
    "        if(i.label_ == 'DATE'):\n",
    "            print(i.text , i.label_)\n",
    "            dates_in_text.append(i.text)\n",
    "            parsed_dates_in_text.append((dateparser.parse(i.text).year,dateparser.parse(i.text).month,dateparser.parse(i.text).day))\n",
    "    print(dates_in_text)\n",
    "    print(parsed_dates_in_text)\n",
    "    for i in range(len(parsed_dates_in_text)):\n",
    "    # here we are matching year month and day , can make changes if subpart is to be matched\n",
    "    #if((parsed_dates_in_text[i][0],parsed_dates_in_text[i][1]) == (date_tup[0],date_tup[1]))\n",
    "        if (parsed_dates_in_text[i] == date_tup):\n",
    "            ol.append(dates_in_text[i])\n",
    "    print(ol)\n",
    "    ol1=[]\n",
    "    tol=[]\n",
    "    for i in ol:\n",
    "    # to extract indices from start to end+1 , can make changes if needed otherwise\n",
    "    #ol1=[(i,t.start(),t.start()+len(i),'label') for t in re.finditer(i,str)]\n",
    "        tol=[(i,t.start(),t.start()+len(i),'date') for t in re.finditer(i,text)]\n",
    "        ol1=[(t.start(),t.start()+len(i),'date') for t in re.finditer(i,text)]\n",
    "    print(tol)\n",
    "    print(ol1)\n",
    "    return ol1\n",
    "    \n",
    " \n",
    "\n",
    "t=date_fn(\"22nd of oct 2019\",'i will see u tomorrow . it takes 10 days to climb everest.your frind went out with your girlfrient on 22nd of october 2019 . anurag is god . i will kill you tomorrow . mohan dies on 10th jan 2020 . my birthday is on 22/10/1999')\n",
    "print(t)"
   ]
  },
  {
   "cell_type": "code",
   "execution_count": 160,
   "metadata": {},
   "outputs": [
    {
     "name": "stdout",
     "output_type": "stream",
     "text": [
      "(2019, 10, 22)\n",
      "10 days DATE\n",
      "october 2019 DATE\n",
      "tomorrow DATE\n",
      "10th jan 2020 DATE\n",
      "['10 days', 'october 2019', 'tomorrow', '10th jan 2020']\n",
      "[(2020, 1, 16), (2019, 10, 26), (2020, 1, 27), (2020, 1, 10)]\n",
      "[]\n",
      "[]\n",
      "[]\n",
      "[]\n"
     ]
    }
   ],
   "source": [
    "tw=date_fn(\"22nd of oct 2019\",'i will see u . it takes 10 days to climb everest.your frind went out with your girlfrient on 22nd of october 2019 . anurag is god . i will kill you tomorrow . mohan dies on 10th jan 2020 . my birthday is on 22/10/1999')\n",
    "print(tw)"
   ]
  },
  {
   "cell_type": "code",
   "execution_count": 41,
   "metadata": {},
   "outputs": [
    {
     "data": {
      "text/plain": [
       "'20.05.2007'"
      ]
     },
     "execution_count": 41,
     "metadata": {},
     "output_type": "execute_result"
    }
   ],
   "source": [
    "train_data['Aggrement Start Date'][9]"
   ]
  },
  {
   "cell_type": "code",
   "execution_count": 57,
   "metadata": {},
   "outputs": [
    {
     "name": "stdout",
     "output_type": "stream",
     "text": [
      "Requirement already satisfied: docx2txt in c:\\users\\aarush\\anaconda3\\lib\\site-packages (0.8)\n"
     ]
    },
    {
     "name": "stderr",
     "output_type": "stream",
     "text": [
      "You are using pip version 10.0.1, however version 20.0.2 is available.\n",
      "You should consider upgrading via the 'python -m pip install --upgrade pip' command.\n"
     ]
    }
   ],
   "source": [
    "!pip install docx2txt\n",
    "import docx2txt"
   ]
  },
  {
   "cell_type": "code",
   "execution_count": 663,
   "metadata": {
    "scrolled": true
   },
   "outputs": [
    {
     "name": "stdout",
     "output_type": "stream",
     "text": [
      "RENTAL AGREEMENT\n",
      "\n",
      "This Rental Agreement made and executed at Bangalore on this 1st day April two thousand eleven (01/04/2011), between Prof. K. Parthasarathy, S/o. Late T.S.Krishna Iyengar aged about 75 years, No. 46, Srinivasa, 2nd Main Road, Hanumanthanagar, Bangalore-560019, herein after called “LESSOR” (which expression shall where-ever the context so requires or permits mean and include here heirs, executors, administrators and assign) of the FIRST PART.\n",
      "\n",
      "AND\n",
      "\n",
      "Mr. Veerabrahmam Bathini, S/o Mr.Lingaiah Bathini aged about 28 years (Sr. Engineer-PSS working at Power Research and Development Consultants, #5, 11th cross, 2nd stage, West of Chord Road, Bangalore-560086, herein after called “LESSEE” (Tenant) of the SECOND PART.\n",
      "\n",
      "WITNESSETH AS FOLLOWS:\n",
      "\n",
      "\tThe Lessor hereby covenants with Lessee and warrants that he is the owner and as such as the right and the authority to lease the First Floor of premises No. 146, Krishna Krupa, 3rd Cross, 1st Main, VHBCSL Layout, West of Chord Road, Bangalore-560086.\n",
      "\n",
      "\tThe Lessor hereby agrees to let to the Lessee the First Floor of the premises, No. 146, Krishna Krupa, 3rd Cross, 1st Main, VHBCSL Layout, West of Chord Road, Bangalore- 560086 on the following terms conditions.\n",
      "\n",
      "\tThe Lessee will pay the Lessor for the premises herein described in the schedule, a monthly rent of Rs.8,000/- (Ruppes eight thousand only). The rent shall be paid on or before 10th of each calendar month without deductions whatsoever. If the Lessee fails to pay the monthly rent in time, the Lessor shall have the liberty to resume the schedule premises without re-course to any action, legal or other wise.\n",
      "\n",
      "\tThe Lessee shall not pay any advance to the premises.\n",
      "\n",
      "\tThis rental agreement shall be valid for a period of twelve months, from the date of execution and subject to renewal on expiry of the above lease period on execution of fresh LEASE-DEED on mutual consent.\n",
      "\n",
      "\tUnder no circumstances, the schedule premises shall be sublet or underlet to any one else but shall be used by lessee for his bonafide residence only.\n",
      "\n",
      "\tThe Lessee undertakes the full responsibility for the payment of all electric and water charges and receipts retained for record.\n",
      "\n",
      "\tAdditions or alterations shall not be made to th existing structure without written consent from the Lessor.\n",
      "\n",
      "\tIf any damage is caused to the schedule premises, the same shall be got repaired by the Lessee at his own cost.\n",
      "\n",
      "\tThe Lessee upon termination of this agreement will peacefully and quietly leave to the Lessor the possession of the said premises together with the fixtures and fittings as given below in substantially same condition by the lessee except for the normal wear and tear.\n",
      "\n",
      "\tThe Lessor or his authorized agent shall be permitted to enter schedule premises at all reasonable hours to inspect the same for its wear and tear.\n",
      "\n",
      "\tBoth the parties agree that this lease agreement may be terminated by the Lessee by giving three months notice in writing.\n",
      "\n",
      "SCHEDULE\n",
      "\n",
      "The first floor of the No. 146, VHBCSL Layout, 3rd cross, 1st Main, Bangalore-560086 bounded by\n",
      "\n",
      "East by 147 and North by 161\n",
      "\n",
      "West by Road and South by Road\n",
      "\n",
      "\n",
      "\n",
      "ANNEXURE\n",
      "\n",
      "\tCeiling fan 48”\n",
      "\n",
      "\tEuropean closet\n",
      "\n",
      "\tWash basin with mirror-\n",
      "\n",
      "\tWater geyser(25 Itrs)--\n",
      "\n",
      "\tSolar water heater\n",
      "\n",
      "\tTube lights\n",
      "\n",
      "Four numbers Two numbers Two numbers each 2 kA( Johnson make) 150 Itrs (komal make) four nos.\n",
      "\n",
      "IN WITNESS WHEREOF the Lessor and Lessee have affixed their signature to this rental agreement on the day, month and the year first above written.\n",
      "\n",
      "WITNESS\n",
      "\n",
      "LESSOR\n",
      "\n",
      "1.\n",
      "\n",
      "1.\n",
      "\n",
      "LESSEE\n",
      "\n",
      "\n",
      "\n",
      "\n",
      "\n",
      "\n",
      "\n",
      "\n",
      "\n",
      "\n",
      "\n",
      "\n",
      "\n",
      "\n",
      "\n",
      "\n",
      "\n",
      "\n",
      "\n",
      "\n",
      "\n",
      "\n",
      "\n",
      "\n",
      "\n",
      "\n",
      "\n",
      "\n",
      "\n",
      "\n",
      "\n",
      "\n",
      "\n",
      "\n",
      "\n",
      "\n",
      "\n",
      "\n",
      "\n",
      "\n",
      "\n",
      "\n",
      "\n",
      "\n",
      "\n",
      "\n",
      "\n",
      "\n",
      "\n",
      "\n",
      "\n",
      "\n",
      "\n",
      "\t2.\t2.\n"
     ]
    }
   ],
   "source": [
    "text = docx2txt.process(\"C:/Users/aarush/Downloads/Training_data/54770958-Rental-Agreement.pdf.docx\")\n",
    "print(text)"
   ]
  },
  {
   "cell_type": "code",
   "execution_count": 664,
   "metadata": {},
   "outputs": [
    {
     "name": "stdout",
     "output_type": "stream",
     "text": [
      "k. parthasarathy\n",
      "[(141, 157)]\n",
      "een Prof. K. Parthasarathy, S/o. Lat\n"
     ]
    }
   ],
   "source": [
    "Party_one = train_data['Party One'][17]\n",
    "print(Party_one.lower())\n",
    "indices_party_one = [(m.start(),m.end()) for m in re.finditer(Party_one.lower(), text.lower())]\n",
    "print(indices_party_one)\n",
    "for i in indices_party_one:\n",
    "    print(text[i[0] - 10:i[1] + 10])"
   ]
  },
  {
   "cell_type": "code",
   "execution_count": 628,
   "metadata": {},
   "outputs": [
    {
     "name": "stdout",
     "output_type": "stream",
     "text": [
      "30.0\n",
      "['30.0 days', '30 days', '30.0 day', '30 day', ' 1 month', 'one month', ' 1 months', 'one months']\n",
      "[(2183, 2192)]\n",
      "reed that one month notice on\n"
     ]
    }
   ],
   "source": [
    "notice = train_data['Renewal Notice (Days)'][35]\n",
    "print(notice)\n",
    "notice_formats = []\n",
    "indices_notice= []\n",
    "notice_formats = [str(notice) + ' days', str(int(notice)) + ' days',\n",
    "                  str(notice) + ' day', str(int(notice)) + ' day']\n",
    "if(int(notice))>=30:\n",
    "    month = int(notice//30)\n",
    "    notice_formats = notice_formats + [' ' + str(month) + ' month', p.number_to_words(month) + ' month',\n",
    "                                       ' ' + str(month) + ' months', p.number_to_words(month) + ' months',]\n",
    "print(notice_formats)\n",
    "for i in notice_formats:\n",
    "    try:\n",
    "        indices_notice = indices_notice + [(m.start(),m.end()) for m in re.finditer(i.lower(), text.lower())]\n",
    "    except:\n",
    "        pass\n",
    "print(indices_notice)\n",
    "for i in indices_notice:\n",
    "    print(text[i[0] - 10:i[1] + 10])\n",
    "#three month, three months, 3 month, 3 months, 90 days, 90.0 days"
   ]
  },
  {
   "cell_type": "code",
   "execution_count": 581,
   "metadata": {},
   "outputs": [
    {
     "name": "stdout",
     "output_type": "stream",
     "text": [
      "['9000.0', '9.000', '9,000', 'nine thousand', '9000']\n",
      "[(2585, 2598), (2570, 2574)]\n",
      "- (Rupees Nine Thousand only) per\n",
      "ENT of Rs.9000/- (Rupees\n"
     ]
    }
   ],
   "source": [
    "amount = train_data['Aggrement Value'][26]\n",
    "p = inflect.engine()\n",
    "amt_formats = []\n",
    "indices_amt = []\n",
    "amt_formats.append(' '.join(p.number_to_words(int(amount)).split(' and ')))\n",
    "amt_formats.append(' '.join(amt_formats[0].split('-')))                 #ninety-nine->ninety nine\n",
    "amt_formats = list(set(amt_formats + [re.sub(',','',amt_formats[0]), \n",
    "                                      re.sub(',','',amt_formats[1])] + [str(amount),\n",
    "                                      str(int(amount)), f\"{int(amount):,d}\", \n",
    "                                      re.sub(',','.',f\"{int(amount):,d}\")]))\n",
    "print(amt_formats)\n",
    "for i in amt_formats:\n",
    "    try:\n",
    "        indices_amt = indices_amt + [(m.start(),m.end()) for m in re.finditer(i.lower(), text.lower())]\n",
    "    except:\n",
    "        pass\n",
    "print(indices_amt)\n",
    "for i in indices_amt:\n",
    "    print(text[i[0] - 10:i[1] + 10])"
   ]
  },
  {
   "cell_type": "code",
   "execution_count": 536,
   "metadata": {},
   "outputs": [
    {
     "name": "stdout",
     "output_type": "stream",
     "text": [
      "['1st day Sep 2018', '1st day Sep, 2018', '1st day Sep,2018', '1st day September 2018', '1st day September, 2018', '1st day September,2018', '1st of Sep 2018', '1st of Sep, 2018', '1st of Sep,2018', '1st of September 2018', '1st of September, 2018', '1st of September,2018', '1st day of Sep 2018', '1st day of Sep, 2018', '1st day of Sep,2018', '1st day of September 2018', '1st day of September, 2018', '1st day of September,2018', '1st Sep 2018', '1st Sep, 2018', '1st Sep,2018', '1st September 2018', '1st September, 2018', '1st September,2018', 'first day Sep 2018', 'first day Sep, 2018', 'first day Sep,2018', 'first day September 2018', 'first day September, 2018', 'first day September,2018', 'first of Sep 2018', 'first of Sep, 2018', 'first of Sep,2018', 'first of September 2018', 'first of September, 2018', 'first of September,2018', 'first day of Sep 2018', 'first day of Sep, 2018', 'first day of Sep,2018', 'first day of September 2018', 'first day of September, 2018', 'first day of September,2018', 'first Sep 2018', 'first Sep, 2018', 'first Sep,2018', 'first September 2018', 'first September, 2018', 'first September,2018', '1 day Sep 2018', '1 day Sep, 2018', '1 day Sep,2018', '1 day September 2018', '1 day September, 2018', '1 day September,2018', '1 of Sep 2018', '1 of Sep, 2018', '1 of Sep,2018', '1 of September 2018', '1 of September, 2018', '1 of September,2018', '1 day of Sep 2018', '1 day of Sep, 2018', '1 day of Sep,2018', '1 day of September 2018', '1 day of September, 2018', '1 day of September,2018', '1 Sep 2018', '1 Sep, 2018', '1 Sep,2018', '1 September 2018', '1 September, 2018', '1 September,2018']\n"
     ]
    }
   ],
   "source": [
    "import datetime\n",
    "date = \"01.09.2018\"\n",
    "dict1 = {}\n",
    "date_formats1 = []\n",
    "date_result = []\n",
    "indices_date = []\n",
    "for i in range(1, 32):\n",
    "    dict1[i] = 'th'\n",
    "for i in [1, 21, 31]:\n",
    "    dict1[i] = 'st'\n",
    "for i in [2, 22]:\n",
    "    dict1[i] = 'nd'\n",
    "for i in [3, 23]:\n",
    "    dict1[i] = 'rd'\n",
    "\n",
    "suffix1 = '%d' + dict1[int(date[0:2])]                        #15th day\n",
    "suffix2 = num2words(int(date[0:2]),ordinal=True)              #fifteenth day\n",
    "suffix3 = '%d'                                                #15 day\n",
    "for suffix in [suffix1, suffix2, suffix3]:\n",
    "    for mid_str in [' day ', ' of ', ' day of ', ' ']:\n",
    "        date_formats1 = date_formats1 + [suffix + mid_str + '%b %Y', \n",
    "                suffix + mid_str + '%b, %Y',\n",
    "                suffix + mid_str + '%b,%Y',\n",
    "                suffix + mid_str + '%B %Y', \n",
    "                suffix + mid_str + '%B, %Y',\n",
    "                suffix + mid_str + '%B,%Y']\n",
    "for i in date_formats1:\n",
    "    temp = datetime.datetime.strptime(date, '%d.%m.%Y').strftime(i)\n",
    "    if(temp[0]=='0'):\n",
    "        temp = temp[1:]\n",
    "    date_result.append(temp)\n",
    "print(date_result)"
   ]
  },
  {
   "cell_type": "code",
   "execution_count": 537,
   "metadata": {},
   "outputs": [
    {
     "name": "stdout",
     "output_type": "stream",
     "text": [
      "Sep 01, 2018\n",
      "September 01, 2018\n",
      "Sep 01 2018\n",
      "September 01 2018\n",
      "01.09.2018\n",
      "1-9-2018\n",
      "01.09.18\n",
      "1/9/2018\n",
      "['first of Sep,2018', '1st day of Sep, 2018', '1st September 2018', 'first September 2018', 'first September,2018', '1 day September,2018', '1st of Sep, 2018', '1st of September,2018', '1 day of September 2018', '1st September, 2018', '1 Sep 2018', 'first September, 2018', 'Sep 01 2018', '01.09.18', '1/9/2018', '1 September, 2018', '1st of September 2018', '1 September 2018', '1st day of September 2018', 'first day September,2018', '1 of September 2018', '1st day September 2018', '1st of Sep 2018', 'first day September 2018', '1st Sep 2018', 'first Sep,2018', '1 Sep,2018', '1st of September, 2018', 'first day of Sep,2018', 'first day Sep 2018', '1st day Sep, 2018', 'first Sep 2018', '01.09.2018', 'first day of Sep, 2018', 'September 01 2018', 'first of Sep, 2018', '1st day Sep 2018', '1 September,2018', '1 of Sep,2018', '1 day of Sep, 2018', 'first day of September 2018', '1 day of September,2018', 'first day Sep,2018', 'first day September, 2018', 'first of September, 2018', 'Sep 01, 2018', '1st Sep, 2018', 'first of September,2018', '1st September,2018', 'first Sep, 2018', '1 day of Sep,2018', '1st day September, 2018', '1st day Sep,2018', '1st Sep,2018', '1 Sep, 2018', 'first of September 2018', '1st day of September,2018', 'first day Sep, 2018', '1st day of Sep,2018', '1st day September,2018', '1 day Sep,2018', '1 day of Sep 2018', '1 of September,2018', '1 day Sep 2018', '1st day of September, 2018', '1 day Sep, 2018', 'first of Sep 2018', 'first day of Sep 2018', 'first day of September, 2018', 'September 01, 2018', '1-9-2018', '1 day of September, 2018', 'first day of September,2018', '1 day September 2018', '1 of Sep, 2018', '1st of Sep,2018', '1st day of Sep 2018', '1 of September, 2018', '1 day September, 2018', '1 of Sep 2018']\n",
      "[]\n"
     ]
    }
   ],
   "source": [
    "date_formats2 = ['%b %d, %Y', '%B %d, %Y',\n",
    "                 '%b %d %Y', '%B %d %Y', '%d.%m.%Y', \n",
    "                 '%#d-%#m-%Y', '%d.%m.%y',\n",
    "                 '%#d/%#m/%Y']\n",
    "for i in date_formats2:\n",
    "    temp2 = datetime.datetime.strptime(date, '%d.%m.%Y').strftime(i)\n",
    "    date_result.append(temp2)\n",
    "    print(temp2)\n",
    "date_result = list(set(date_result))\n",
    "print(date_result)\n",
    "for i in date_result:\n",
    "    try:\n",
    "        indices_date = indices_date + [(m.start(),m.end()) for m in re.finditer(i.lower(), text.lower())]\n",
    "    except:\n",
    "        pass\n",
    "print(indices_date)\n",
    "for i in indices_date:\n",
    "    print(text[i[0] - 10:i[1] + 10])"
   ]
  },
  {
   "cell_type": "code",
   "execution_count": null,
   "metadata": {},
   "outputs": [],
   "source": []
  },
  {
   "cell_type": "code",
   "execution_count": null,
   "metadata": {},
   "outputs": [],
   "source": []
  },
  {
   "cell_type": "code",
   "execution_count": null,
   "metadata": {},
   "outputs": [],
   "source": []
  },
  {
   "cell_type": "code",
   "execution_count": null,
   "metadata": {
    "collapsed": true
   },
   "outputs": [],
   "source": []
  }
 ],
 "metadata": {
  "kernelspec": {
   "display_name": "Python 3",
   "language": "python",
   "name": "python3"
  },
  "language_info": {
   "codemirror_mode": {
    "name": "ipython",
    "version": 3
   },
   "file_extension": ".py",
   "mimetype": "text/x-python",
   "name": "python",
   "nbconvert_exporter": "python",
   "pygments_lexer": "ipython3",
   "version": "3.6.3"
  }
 },
 "nbformat": 4,
 "nbformat_minor": 2
}
